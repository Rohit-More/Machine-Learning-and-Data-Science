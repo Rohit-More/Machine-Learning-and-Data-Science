{
  "nbformat": 4,
  "nbformat_minor": 0,
  "metadata": {
    "colab": {
      "name": "Untitled0.ipynb",
      "provenance": [],
      "authorship_tag": "ABX9TyPP2xroAqNktnB+wTwHem5A"
    },
    "kernelspec": {
      "name": "python3",
      "display_name": "Python 3"
    },
    "language_info": {
      "name": "python"
    }
  },
  "cells": [
    {
      "cell_type": "markdown",
      "metadata": {
        "id": "NtC9yzsW0rog"
      },
      "source": [
        "# Naive Bayes\n",
        "\n",
        "Referenece : https://www.freecodecamp.org/news/how-naive-bayes-classifiers-work/"
      ]
    },
    {
      "cell_type": "code",
      "metadata": {
        "id": "JYMXiDDYxHy0"
      },
      "source": [
        "class NaiveBayesClassifier:\n",
        "    \n",
        "    def __init__(self, X, y):\n",
        "        self.X, self.y = X, y \n",
        "        self.N = len(self.X) # Training set length\n",
        "        self.dim = len(self.X[0]) # Dimension of the vector of features\n",
        "\n",
        "        self.attrs = [[] for _ in range(self.dim)] \n",
        "\n",
        "        self.output_dom = {} # Output classes with the number of ocurrences in the training set. In this case we have only 2 classes\n",
        "\n",
        "        self.data = []\n",
        "        \n",
        "        \n",
        "        for i in range(len(self.X)):\n",
        "            for j in range(self.dim):\n",
        "                if not self.X[i][j] in self.attrs[j]:\n",
        "                    self.attrs[j].append(self.X[i][j])\n",
        "                    \n",
        "            \n",
        "            if not self.y[i] in self.output_dom.keys():\n",
        "                self.output_dom[self.y[i]] = 1\n",
        "            \n",
        "            else:\n",
        "                self.output_dom[self.y[i]] += 1\n",
        "                \n",
        "            self.data.append([self.X[i], self.y[i]])\n",
        "            \n",
        "            \n",
        "\n",
        "    def classify(self, entry):\n",
        "\n",
        "        solve = None # Final result\n",
        "        max_arg = -1 # partial maximum\n",
        "\n",
        "        for y in self.output_dom.keys():\n",
        "\n",
        "            prob = self.output_dom[y]/self.N # P(y)\n",
        "\n",
        "            for i in range(self.dim):\n",
        "                cases = [x for x in self.data if x[0][i] == entry[i] and x[1] == y] # all rows with Xi = xi\n",
        "                n = len(cases)\n",
        "                prob *= n/self.N # P *= P(Xi = xi)\n",
        "                \n",
        "            # if we have a greater prob for this output than the partial maximum...\n",
        "            if prob > max_arg:\n",
        "                max_arg = prob\n",
        "                solve = y\n",
        "\n",
        "        return solve"
      ],
      "execution_count": 11,
      "outputs": []
    },
    {
      "cell_type": "code",
      "metadata": {
        "colab": {
          "base_uri": "https://localhost:8080/"
        },
        "id": "oNbkcXV2zGwg",
        "outputId": "f35adc2d-d2b1-4d88-c3a1-2a49cf12bc69"
      },
      "source": [
        "import pandas as pd\n",
        "\n",
        "data = pd.read_csv('train.csv')\n",
        "\n",
        "print(data.head())"
      ],
      "execution_count": 12,
      "outputs": [
        {
          "output_type": "stream",
          "name": "stdout",
          "text": [
            "   PassengerId  Survived  Pclass  ...     Fare Cabin  Embarked\n",
            "0            1         0       3  ...   7.2500   NaN         S\n",
            "1            2         1       1  ...  71.2833   C85         C\n",
            "2            3         1       3  ...   7.9250   NaN         S\n",
            "3            4         1       1  ...  53.1000  C123         S\n",
            "4            5         0       3  ...   8.0500   NaN         S\n",
            "\n",
            "[5 rows x 12 columns]\n"
          ]
        }
      ]
    },
    {
      "cell_type": "code",
      "metadata": {
        "id": "6Vn98024zRal"
      },
      "source": [
        "y = list(map(lambda v: 'yes' if v == 1 else 'no', data['Survived'].values)) \n",
        "\n",
        "X = data[['Pclass', 'Sex', 'Age']].values # features values"
      ],
      "execution_count": 13,
      "outputs": []
    },
    {
      "cell_type": "code",
      "metadata": {
        "colab": {
          "base_uri": "https://localhost:8080/"
        },
        "id": "SMzbZQoKzUk3",
        "outputId": "1b82e64c-9e36-42e9-f935-4ead01c51762"
      },
      "source": [
        "print(len(y)) # >> 887\n",
        "\n",
        "# We'll take 600 examples to train and the rest to the validation process\n",
        "y_train = y[:700]\n",
        "y_val = y[700:]\n",
        "\n",
        "X_train = X[:700]\n",
        "X_val = X[700:]"
      ],
      "execution_count": 15,
      "outputs": [
        {
          "output_type": "stream",
          "name": "stdout",
          "text": [
            "891\n"
          ]
        }
      ]
    },
    {
      "cell_type": "code",
      "metadata": {
        "colab": {
          "base_uri": "https://localhost:8080/"
        },
        "id": "XP4RXu5o0UjB",
        "outputId": "15f87a0f-8651-4869-a145-1216e87571b0"
      },
      "source": [
        "## Creating the Naive Bayes Classifier instance with the training data\n",
        "\n",
        "nbc = NaiveBayesClassifier(X_train, y_train)\n",
        "\n",
        "\n",
        "total_cases = len(y_val) # size of validation set\n",
        "\n",
        "# Well classified examples and bad classified examples\n",
        "good = 0\n",
        "bad = 0\n",
        "\n",
        "for i in range(total_cases):\n",
        "    predict = nbc.classify(X_val[i])\n",
        "#     print(y_val[i] + ' --------------- ' + predict)\n",
        "    if y_val[i] == predict:\n",
        "        good += 1\n",
        "    else:\n",
        "        bad += 1\n",
        "\n",
        "print('TOTAL EXAMPLES:', total_cases)\n",
        "print('RIGHT:', good)\n",
        "print('WRONG:', bad)\n",
        "print('ACCURACY:', good/total_cases)"
      ],
      "execution_count": 16,
      "outputs": [
        {
          "output_type": "stream",
          "name": "stdout",
          "text": [
            "TOTAL EXAMPLES: 191\n",
            "RIGHT: 148\n",
            "WRONG: 43\n",
            "ACCURACY: 0.774869109947644\n"
          ]
        }
      ]
    },
    {
      "cell_type": "code",
      "metadata": {
        "id": "121HBcIO0YJ9"
      },
      "source": [
        ""
      ],
      "execution_count": null,
      "outputs": []
    }
  ]
}