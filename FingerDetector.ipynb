{
 "cells": [
  {
   "cell_type": "code",
   "execution_count": 1,
   "source": [
    "#Finger detector"
   ],
   "outputs": [],
   "metadata": {}
  },
  {
   "cell_type": "code",
   "execution_count": 2,
   "source": [
    "#importing libraries\r\n",
    "import cv2\r\n",
    "import math\r\n",
    "import mediapipe as mp"
   ],
   "outputs": [],
   "metadata": {}
  },
  {
   "cell_type": "code",
   "execution_count": 3,
   "source": [
    "#required variables\r\n",
    "thumb=\"thumb\"\r\n",
    "index=\"index\"\r\n",
    "middle=\"middle\"\r\n",
    "ring=\"ring\"\r\n",
    "pinky=\"pinky\"\r\n",
    "\r\n",
    "fingers=[]\r\n",
    "\r\n",
    "wrist_x, wrist_y=0, 0\r\n",
    "\r\n",
    "thumb_tip_x, thumb_tip_y=0, 0\r\n",
    "thumb_ip_x, thumb_ip_y=0, 0\r\n",
    "\r\n",
    "index_tip_x, index_tip_y=0, 0\r\n",
    "index_pip_x, index_pip_y=0, 0\r\n",
    "\r\n",
    "middle_tip_x, middle_tip_y=0, 0\r\n",
    "middle_pip_x, middle_pip_y=0, 0\r\n",
    "\r\n",
    "ring_tip_x, ring_tip_y=0, 0\r\n",
    "ring_pip_x, ring_pip_y=0, 0\r\n",
    "\r\n",
    "pinky_tip_x, pinky_tip_y=0, 0\r\n",
    "pinky_pip_x, pinky_pip_y=0, 0\r\n",
    "\r\n",
    "global cnt\r\n",
    "cnt=0"
   ],
   "outputs": [],
   "metadata": {}
  },
  {
   "cell_type": "code",
   "execution_count": 4,
   "source": [
    "#finger detecting function\r\n",
    "def fingerDetect(tip_x, tip_y, pip_x, pip_y, finger):\r\n",
    "    if math.dist([tip_x, tip_y], [wrist_x, wrist_y])>math.dist([pip_x, pip_y], [wrist_x, wrist_y]):\r\n",
    "        global cnt\r\n",
    "        cnt=cnt+1\r\n",
    "        fingers.append(finger)"
   ],
   "outputs": [],
   "metadata": {}
  },
  {
   "cell_type": "code",
   "execution_count": 5,
   "source": [
    "#capturing the video\r\n",
    "cap=cv2.VideoCapture(0)\r\n",
    "\r\n",
    "#detecting the landmarksq\r\n",
    "mphand=mp.solutions.hands\r\n",
    "hands=mphand.Hands(max_num_hands=1)\r\n",
    "mpDraw=mp.solutions.drawing_utils\r\n",
    "\r\n",
    "while True:\r\n",
    "    success, img=cap.read()\r\n",
    "    img=cv2.flip(img,1) \r\n",
    "    \r\n",
    "    #detecting hand/s using 21 points of reference, these reference points will be plotted on the hand\r\n",
    "    result=hands.process(img)\r\n",
    "    \r\n",
    "    if result.multi_hand_landmarks:\r\n",
    "        for handlms in result.multi_hand_landmarks:    #loop: handlms gives us the number of hands i.e. 1 hand, 2hands...\r\n",
    "            for id, lm in enumerate(handlms.landmark):    #loop: gives us individual reference point on each hand\r\n",
    "                cnt=0\r\n",
    "                h, w, c=img.shape                         #gives us the dimensions of the frame\r\n",
    "                cx, cy=int(lm.x*w), int(lm.y*h)           #give us the coordinates for the reference points\r\n",
    "                mpDraw.draw_landmarks(img, handlms, mphand.HAND_CONNECTIONS)\r\n",
    "                if id==0:\r\n",
    "                    wrist_x, wrist_y=cx, cy\r\n",
    "                elif id==4:\r\n",
    "                    thumb_tip_x, thumb_tip_y=cx, cy\r\n",
    "                elif id==3:\r\n",
    "                    thumb_ip_x, thumb_ip_y=cx, cy\r\n",
    "                elif id==8:\r\n",
    "                    index_tip_x, index_tip_y=cx, cy\r\n",
    "                elif id==6:\r\n",
    "                    index_pip_x, index_pip_y=cx, cy\r\n",
    "                elif id==12:\r\n",
    "                    middle_tip_x, middle_tip_y=cx, cy\r\n",
    "                elif id==10:\r\n",
    "                    middle_pip_x, middle_pip_y=cx, cy\r\n",
    "                elif id==16:\r\n",
    "                    ring_tip_x, ring_tip_y=cx, cy\r\n",
    "                elif id==14:\r\n",
    "                    ring_pip_x, ring_pip_y=cx, cy\r\n",
    "                elif id==20:\r\n",
    "                    pinky_tip_x, pinky_tip_y=cx, cy\r\n",
    "                elif id==18:\r\n",
    "                    pinky_pip_x, pinky_pip_y=cx, cy\r\n",
    "                fingerDetect(thumb_tip_x, thumb_tip_y, thumb_ip_x, thumb_ip_y, thumb)\r\n",
    "                fingerDetect(index_tip_x, index_tip_y, index_pip_x, index_pip_y, index)\r\n",
    "                fingerDetect(middle_tip_x, middle_tip_y, middle_pip_x, middle_pip_y, middle)\r\n",
    "                fingerDetect(ring_tip_x, ring_tip_y, ring_pip_x, ring_pip_y, ring)\r\n",
    "                fingerDetect(pinky_tip_x, pinky_tip_y, pinky_pip_x, pinky_pip_y, pinky)\r\n",
    "                j=60\r\n",
    "                for i in range(0, len(fingers)):\r\n",
    "                     cv2.putText(img, fingers[i], (20, 40+j), cv2.FONT_HERSHEY_PLAIN, 3, (0, 0, 255), 3)\r\n",
    "                     j+=40\r\n",
    "                fingers.clear()\r\n",
    "       \r\n",
    "    cv2.putText(img, \"Upright fingers: \"+str(cnt), (20, 40), cv2.FONT_HERSHEY_PLAIN, 3, (0, 0, 255), 3)\r\n",
    "    cv2.imshow(\"camera\", img)\r\n",
    "    cnt=0\r\n",
    "    if cv2.waitKey(1) & 0xFF==ord('q'):\r\n",
    "        cap.release()\r\n",
    "        cv2.destroyAllWindows()\r\n",
    "        break"
   ],
   "outputs": [],
   "metadata": {}
  }
 ],
 "metadata": {
  "interpreter": {
   "hash": "adbe46018c70e9352393b274d6b2480849c020eee9c0dc58b148aa8799071329"
  },
  "kernelspec": {
   "name": "python3",
   "display_name": "Python 3.8.8 64-bit ('tensorflow': conda)"
  },
  "language_info": {
   "codemirror_mode": {
    "name": "ipython",
    "version": 3
   },
   "file_extension": ".py",
   "mimetype": "text/x-python",
   "name": "python",
   "nbconvert_exporter": "python",
   "pygments_lexer": "ipython3",
   "version": "3.8.8"
  }
 },
 "nbformat": 4,
 "nbformat_minor": 5
}