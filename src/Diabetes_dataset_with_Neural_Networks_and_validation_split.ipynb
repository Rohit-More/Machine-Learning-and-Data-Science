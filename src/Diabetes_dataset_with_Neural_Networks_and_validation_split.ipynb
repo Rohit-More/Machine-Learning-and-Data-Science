{
  "nbformat": 4,
  "nbformat_minor": 0,
  "metadata": {
    "colab": {
      "name": "Diabetes dataset with Neural Networks and validation split.ipynb",
      "provenance": []
    },
    "kernelspec": {
      "name": "python3",
      "display_name": "Python 3"
    }
  },
  "cells": [
    {
      "cell_type": "code",
      "metadata": {
        "id": "87pa5854IpSA",
        "outputId": "cd7688e2-e222-4a4e-fb29-8e42134458d7",
        "colab": {
          "base_uri": "https://localhost:8080/",
          "height": 672
        }
      },
      "source": [
        "import tensorflow as tf\n",
        "print(tf.__version__)\n",
        "\n",
        "# Load the diabetes dataset\n",
        "from sklearn.datasets import load_diabetes\n",
        "\n",
        "diabetes_dataset = load_diabetes()\n",
        "print(diabetes_dataset['DESCR'])\n",
        "\n",
        "# Save the input and target variables\n",
        "data = diabetes_dataset['data']\n",
        "targets = diabetes_dataset['target']\n",
        "\n",
        "# Normalise the target data (this will make clearer training curves)\n",
        "targets = (targets - targets.mean(axis = 0)) / targets.std()"
      ],
      "execution_count": null,
      "outputs": [
        {
          "output_type": "stream",
          "text": [
            "2.3.0\n",
            ".. _diabetes_dataset:\n",
            "\n",
            "Diabetes dataset\n",
            "----------------\n",
            "\n",
            "Ten baseline variables, age, sex, body mass index, average blood\n",
            "pressure, and six blood serum measurements were obtained for each of n =\n",
            "442 diabetes patients, as well as the response of interest, a\n",
            "quantitative measure of disease progression one year after baseline.\n",
            "\n",
            "**Data Set Characteristics:**\n",
            "\n",
            "  :Number of Instances: 442\n",
            "\n",
            "  :Number of Attributes: First 10 columns are numeric predictive values\n",
            "\n",
            "  :Target: Column 11 is a quantitative measure of disease progression one year after baseline\n",
            "\n",
            "  :Attribute Information:\n",
            "      - Age\n",
            "      - Sex\n",
            "      - Body mass index\n",
            "      - Average blood pressure\n",
            "      - S1\n",
            "      - S2\n",
            "      - S3\n",
            "      - S4\n",
            "      - S5\n",
            "      - S6\n",
            "\n",
            "Note: Each of these 10 feature variables have been mean centered and scaled by the standard deviation times `n_samples` (i.e. the sum of squares of each column totals 1).\n",
            "\n",
            "Source URL:\n",
            "https://www4.stat.ncsu.edu/~boos/var.select/diabetes.html\n",
            "\n",
            "For more information see:\n",
            "Bradley Efron, Trevor Hastie, Iain Johnstone and Robert Tibshirani (2004) \"Least Angle Regression,\" Annals of Statistics (with discussion), 407-499.\n",
            "(https://web.stanford.edu/~hastie/Papers/LARS/LeastAngle_2002.pdf)\n"
          ],
          "name": "stdout"
        }
      ]
    },
    {
      "cell_type": "code",
      "metadata": {
        "id": "Tu8VmAlJJAFi",
        "outputId": "43f6783d-2a2b-47c3-9f68-e10eb51c34c2",
        "colab": {
          "base_uri": "https://localhost:8080/",
          "height": 235
        }
      },
      "source": [
        "# Split the data into train and test sets\n",
        "from sklearn.model_selection import train_test_split\n",
        "train_data, test_data, train_targets, test_targets = train_test_split(data, targets, test_size = 0.1)\n",
        "train_data"
      ],
      "execution_count": null,
      "outputs": [
        {
          "output_type": "execute_result",
          "data": {
            "text/plain": [
              "array([[-0.05273755, -0.04464164,  0.03043966, ..., -0.00259226,\n",
              "        -0.03075121, -0.0010777 ],\n",
              "       [-0.04183994, -0.04464164, -0.06656343, ..., -0.03949338,\n",
              "        -0.05615757, -0.01350402],\n",
              "       [-0.00914709,  0.05068012,  0.17055523, ...,  0.03430886,\n",
              "         0.03365681,  0.03205916],\n",
              "       ...,\n",
              "       [ 0.03807591,  0.05068012, -0.01375064, ..., -0.00259226,\n",
              "        -0.02595242, -0.0010777 ],\n",
              "       [-0.09269548, -0.04464164, -0.04069594, ..., -0.0763945 ,\n",
              "        -0.04118039, -0.09634616],\n",
              "       [ 0.01264814, -0.04464164, -0.02560657, ..., -0.0763945 ,\n",
              "        -0.07212845,  0.01134862]])"
            ]
          },
          "metadata": {
            "tags": []
          },
          "execution_count": 2
        }
      ]
    },
    {
      "cell_type": "code",
      "metadata": {
        "id": "gzWV2UhYJKiS"
      },
      "source": [
        "# Build the model\n",
        "from tensorflow.keras.models import Sequential\n",
        "from tensorflow.keras.layers import Dense\n",
        "\n",
        "def get_model():\n",
        "    model = Sequential([\n",
        "        Dense(128, activation=\"relu\", input_shape=(train_data.shape[1],)),\n",
        "        Dense(128, activation=\"relu\"),\n",
        "        Dense(128, activation=\"relu\"),\n",
        "        Dense(128, activation=\"relu\"),\n",
        "        Dense(128, activation=\"relu\"),\n",
        "        Dense(128, activation=\"relu\"),\n",
        "        Dense(1)\n",
        "    ])\n",
        "    return model\n",
        "\n",
        "model = get_model()"
      ],
      "execution_count": null,
      "outputs": []
    },
    {
      "cell_type": "code",
      "metadata": {
        "id": "eIavxmqsJNSd",
        "outputId": "6c0e713b-0dbd-408d-9f0e-2b706323b24d",
        "colab": {
          "base_uri": "https://localhost:8080/",
          "height": 386
        }
      },
      "source": [
        "# Print the model summary\n",
        "model.summary()"
      ],
      "execution_count": null,
      "outputs": [
        {
          "output_type": "stream",
          "text": [
            "Model: \"sequential\"\n",
            "_________________________________________________________________\n",
            "Layer (type)                 Output Shape              Param #   \n",
            "=================================================================\n",
            "dense (Dense)                (None, 128)               1408      \n",
            "_________________________________________________________________\n",
            "dense_1 (Dense)              (None, 128)               16512     \n",
            "_________________________________________________________________\n",
            "dense_2 (Dense)              (None, 128)               16512     \n",
            "_________________________________________________________________\n",
            "dense_3 (Dense)              (None, 128)               16512     \n",
            "_________________________________________________________________\n",
            "dense_4 (Dense)              (None, 128)               16512     \n",
            "_________________________________________________________________\n",
            "dense_5 (Dense)              (None, 128)               16512     \n",
            "_________________________________________________________________\n",
            "dense_6 (Dense)              (None, 1)                 129       \n",
            "=================================================================\n",
            "Total params: 84,097\n",
            "Trainable params: 84,097\n",
            "Non-trainable params: 0\n",
            "_________________________________________________________________\n"
          ],
          "name": "stdout"
        }
      ]
    },
    {
      "cell_type": "code",
      "metadata": {
        "id": "lys4STNzJP_k"
      },
      "source": [
        "# Compile the model\n",
        "model.compile(optimizer = 'adam', loss = 'mae', metrics = ['mae'])"
      ],
      "execution_count": null,
      "outputs": []
    },
    {
      "cell_type": "code",
      "metadata": {
        "id": "LwUa0X6MJSA2",
        "outputId": "302c4e0e-ff1f-42e4-e139-2fa5f9fcc208",
        "colab": {
          "base_uri": "https://localhost:8080/",
          "height": 1000
        }
      },
      "source": [
        "# Train the model, with some of the data reserved for validation\n",
        "history = model.fit(train_data, train_targets, epochs = 100, \n",
        "                   validation_split = 0.15, batch_size = 64)"
      ],
      "execution_count": null,
      "outputs": [
        {
          "output_type": "stream",
          "text": [
            "Epoch 1/100\n",
            "6/6 [==============================] - 0s 33ms/step - loss: 0.8420 - mae: 0.8420 - val_loss: 0.8367 - val_mae: 0.8367\n",
            "Epoch 2/100\n",
            "6/6 [==============================] - 0s 6ms/step - loss: 0.8042 - mae: 0.8042 - val_loss: 0.7662 - val_mae: 0.7662\n",
            "Epoch 3/100\n",
            "6/6 [==============================] - 0s 6ms/step - loss: 0.7167 - mae: 0.7167 - val_loss: 0.6331 - val_mae: 0.6331\n",
            "Epoch 4/100\n",
            "6/6 [==============================] - 0s 6ms/step - loss: 0.5947 - mae: 0.5947 - val_loss: 0.6307 - val_mae: 0.6307\n",
            "Epoch 5/100\n",
            "6/6 [==============================] - 0s 5ms/step - loss: 0.6015 - mae: 0.6015 - val_loss: 0.5564 - val_mae: 0.5564\n",
            "Epoch 6/100\n",
            "6/6 [==============================] - 0s 5ms/step - loss: 0.5914 - mae: 0.5914 - val_loss: 0.5581 - val_mae: 0.5581\n",
            "Epoch 7/100\n",
            "6/6 [==============================] - 0s 5ms/step - loss: 0.5803 - mae: 0.5803 - val_loss: 0.5574 - val_mae: 0.5574\n",
            "Epoch 8/100\n",
            "6/6 [==============================] - 0s 6ms/step - loss: 0.5744 - mae: 0.5744 - val_loss: 0.5545 - val_mae: 0.5545\n",
            "Epoch 9/100\n",
            "6/6 [==============================] - 0s 5ms/step - loss: 0.5634 - mae: 0.5634 - val_loss: 0.5878 - val_mae: 0.5878\n",
            "Epoch 10/100\n",
            "6/6 [==============================] - 0s 6ms/step - loss: 0.5702 - mae: 0.5702 - val_loss: 0.5606 - val_mae: 0.5606\n",
            "Epoch 11/100\n",
            "6/6 [==============================] - 0s 6ms/step - loss: 0.5522 - mae: 0.5522 - val_loss: 0.6267 - val_mae: 0.6267\n",
            "Epoch 12/100\n",
            "6/6 [==============================] - 0s 6ms/step - loss: 0.5536 - mae: 0.5536 - val_loss: 0.5658 - val_mae: 0.5658\n",
            "Epoch 13/100\n",
            "6/6 [==============================] - 0s 5ms/step - loss: 0.5422 - mae: 0.5422 - val_loss: 0.5919 - val_mae: 0.5919\n",
            "Epoch 14/100\n",
            "6/6 [==============================] - 0s 5ms/step - loss: 0.5294 - mae: 0.5294 - val_loss: 0.5681 - val_mae: 0.5681\n",
            "Epoch 15/100\n",
            "6/6 [==============================] - 0s 5ms/step - loss: 0.5312 - mae: 0.5312 - val_loss: 0.5652 - val_mae: 0.5652\n",
            "Epoch 16/100\n",
            "6/6 [==============================] - 0s 6ms/step - loss: 0.5254 - mae: 0.5254 - val_loss: 0.5548 - val_mae: 0.5548\n",
            "Epoch 17/100\n",
            "6/6 [==============================] - 0s 5ms/step - loss: 0.5072 - mae: 0.5072 - val_loss: 0.5674 - val_mae: 0.5674\n",
            "Epoch 18/100\n",
            "6/6 [==============================] - 0s 6ms/step - loss: 0.5027 - mae: 0.5027 - val_loss: 0.5854 - val_mae: 0.5854\n",
            "Epoch 19/100\n",
            "6/6 [==============================] - 0s 6ms/step - loss: 0.4992 - mae: 0.4992 - val_loss: 0.5417 - val_mae: 0.5417\n",
            "Epoch 20/100\n",
            "6/6 [==============================] - 0s 5ms/step - loss: 0.4926 - mae: 0.4926 - val_loss: 0.5468 - val_mae: 0.5468\n",
            "Epoch 21/100\n",
            "6/6 [==============================] - 0s 5ms/step - loss: 0.4815 - mae: 0.4815 - val_loss: 0.5620 - val_mae: 0.5620\n",
            "Epoch 22/100\n",
            "6/6 [==============================] - 0s 5ms/step - loss: 0.4757 - mae: 0.4757 - val_loss: 0.5662 - val_mae: 0.5662\n",
            "Epoch 23/100\n",
            "6/6 [==============================] - 0s 5ms/step - loss: 0.4709 - mae: 0.4709 - val_loss: 0.5416 - val_mae: 0.5416\n",
            "Epoch 24/100\n",
            "6/6 [==============================] - 0s 5ms/step - loss: 0.4769 - mae: 0.4769 - val_loss: 0.5655 - val_mae: 0.5655\n",
            "Epoch 25/100\n",
            "6/6 [==============================] - 0s 5ms/step - loss: 0.4619 - mae: 0.4619 - val_loss: 0.6152 - val_mae: 0.6152\n",
            "Epoch 26/100\n",
            "6/6 [==============================] - 0s 5ms/step - loss: 0.4829 - mae: 0.4829 - val_loss: 0.5487 - val_mae: 0.5487\n",
            "Epoch 27/100\n",
            "6/6 [==============================] - 0s 5ms/step - loss: 0.4498 - mae: 0.4498 - val_loss: 0.6048 - val_mae: 0.6048\n",
            "Epoch 28/100\n",
            "6/6 [==============================] - 0s 5ms/step - loss: 0.4422 - mae: 0.4422 - val_loss: 0.5577 - val_mae: 0.5577\n",
            "Epoch 29/100\n",
            "6/6 [==============================] - 0s 5ms/step - loss: 0.4589 - mae: 0.4589 - val_loss: 0.5570 - val_mae: 0.5570\n",
            "Epoch 30/100\n",
            "6/6 [==============================] - 0s 6ms/step - loss: 0.4497 - mae: 0.4497 - val_loss: 0.5485 - val_mae: 0.5485\n",
            "Epoch 31/100\n",
            "6/6 [==============================] - 0s 5ms/step - loss: 0.4364 - mae: 0.4364 - val_loss: 0.5993 - val_mae: 0.5993\n",
            "Epoch 32/100\n",
            "6/6 [==============================] - 0s 7ms/step - loss: 0.4953 - mae: 0.4953 - val_loss: 0.5536 - val_mae: 0.5536\n",
            "Epoch 33/100\n",
            "6/6 [==============================] - 0s 7ms/step - loss: 0.4751 - mae: 0.4751 - val_loss: 0.5488 - val_mae: 0.5488\n",
            "Epoch 34/100\n",
            "6/6 [==============================] - 0s 6ms/step - loss: 0.4826 - mae: 0.4826 - val_loss: 0.5964 - val_mae: 0.5964\n",
            "Epoch 35/100\n",
            "6/6 [==============================] - 0s 6ms/step - loss: 0.5036 - mae: 0.5036 - val_loss: 0.5348 - val_mae: 0.5348\n",
            "Epoch 36/100\n",
            "6/6 [==============================] - 0s 6ms/step - loss: 0.4386 - mae: 0.4386 - val_loss: 0.5792 - val_mae: 0.5792\n",
            "Epoch 37/100\n",
            "6/6 [==============================] - 0s 6ms/step - loss: 0.4247 - mae: 0.4247 - val_loss: 0.5358 - val_mae: 0.5358\n",
            "Epoch 38/100\n",
            "6/6 [==============================] - 0s 6ms/step - loss: 0.4093 - mae: 0.4093 - val_loss: 0.5572 - val_mae: 0.5572\n",
            "Epoch 39/100\n",
            "6/6 [==============================] - 0s 5ms/step - loss: 0.4014 - mae: 0.4014 - val_loss: 0.5551 - val_mae: 0.5551\n",
            "Epoch 40/100\n",
            "6/6 [==============================] - 0s 5ms/step - loss: 0.4003 - mae: 0.4003 - val_loss: 0.5544 - val_mae: 0.5544\n",
            "Epoch 41/100\n",
            "6/6 [==============================] - 0s 5ms/step - loss: 0.4111 - mae: 0.4111 - val_loss: 0.5588 - val_mae: 0.5588\n",
            "Epoch 42/100\n",
            "6/6 [==============================] - 0s 6ms/step - loss: 0.3989 - mae: 0.3989 - val_loss: 0.5443 - val_mae: 0.5443\n",
            "Epoch 43/100\n",
            "6/6 [==============================] - 0s 6ms/step - loss: 0.4018 - mae: 0.4018 - val_loss: 0.5571 - val_mae: 0.5571\n",
            "Epoch 44/100\n",
            "6/6 [==============================] - 0s 6ms/step - loss: 0.4036 - mae: 0.4036 - val_loss: 0.6726 - val_mae: 0.6726\n",
            "Epoch 45/100\n",
            "6/6 [==============================] - 0s 5ms/step - loss: 0.4615 - mae: 0.4615 - val_loss: 0.5561 - val_mae: 0.5561\n",
            "Epoch 46/100\n",
            "6/6 [==============================] - 0s 5ms/step - loss: 0.4425 - mae: 0.4425 - val_loss: 0.6587 - val_mae: 0.6587\n",
            "Epoch 47/100\n",
            "6/6 [==============================] - 0s 5ms/step - loss: 0.4292 - mae: 0.4292 - val_loss: 0.5546 - val_mae: 0.5546\n",
            "Epoch 48/100\n",
            "6/6 [==============================] - 0s 6ms/step - loss: 0.4339 - mae: 0.4339 - val_loss: 0.5742 - val_mae: 0.5742\n",
            "Epoch 49/100\n",
            "6/6 [==============================] - 0s 5ms/step - loss: 0.3838 - mae: 0.3838 - val_loss: 0.5656 - val_mae: 0.5656\n",
            "Epoch 50/100\n",
            "6/6 [==============================] - 0s 5ms/step - loss: 0.3740 - mae: 0.3740 - val_loss: 0.5540 - val_mae: 0.5540\n",
            "Epoch 51/100\n",
            "6/6 [==============================] - 0s 5ms/step - loss: 0.3952 - mae: 0.3952 - val_loss: 0.5766 - val_mae: 0.5766\n",
            "Epoch 52/100\n",
            "6/6 [==============================] - 0s 5ms/step - loss: 0.3652 - mae: 0.3652 - val_loss: 0.6022 - val_mae: 0.6022\n",
            "Epoch 53/100\n",
            "6/6 [==============================] - 0s 5ms/step - loss: 0.3737 - mae: 0.3737 - val_loss: 0.5569 - val_mae: 0.5569\n",
            "Epoch 54/100\n",
            "6/6 [==============================] - 0s 5ms/step - loss: 0.3467 - mae: 0.3467 - val_loss: 0.5615 - val_mae: 0.5615\n",
            "Epoch 55/100\n",
            "6/6 [==============================] - 0s 5ms/step - loss: 0.3419 - mae: 0.3419 - val_loss: 0.6070 - val_mae: 0.6070\n",
            "Epoch 56/100\n",
            "6/6 [==============================] - 0s 5ms/step - loss: 0.3660 - mae: 0.3660 - val_loss: 0.6610 - val_mae: 0.6610\n",
            "Epoch 57/100\n",
            "6/6 [==============================] - 0s 6ms/step - loss: 0.4330 - mae: 0.4330 - val_loss: 0.5533 - val_mae: 0.5533\n",
            "Epoch 58/100\n",
            "6/6 [==============================] - 0s 5ms/step - loss: 0.3898 - mae: 0.3898 - val_loss: 0.5551 - val_mae: 0.5551\n",
            "Epoch 59/100\n",
            "6/6 [==============================] - 0s 6ms/step - loss: 0.3808 - mae: 0.3808 - val_loss: 0.6312 - val_mae: 0.6312\n",
            "Epoch 60/100\n",
            "6/6 [==============================] - 0s 6ms/step - loss: 0.4053 - mae: 0.4053 - val_loss: 0.5784 - val_mae: 0.5784\n",
            "Epoch 61/100\n",
            "6/6 [==============================] - 0s 5ms/step - loss: 0.3741 - mae: 0.3741 - val_loss: 0.5576 - val_mae: 0.5576\n",
            "Epoch 62/100\n",
            "6/6 [==============================] - 0s 5ms/step - loss: 0.3572 - mae: 0.3572 - val_loss: 0.5502 - val_mae: 0.5502\n",
            "Epoch 63/100\n",
            "6/6 [==============================] - 0s 5ms/step - loss: 0.3386 - mae: 0.3386 - val_loss: 0.5492 - val_mae: 0.5492\n",
            "Epoch 64/100\n",
            "6/6 [==============================] - 0s 5ms/step - loss: 0.3315 - mae: 0.3315 - val_loss: 0.5546 - val_mae: 0.5546\n",
            "Epoch 65/100\n",
            "6/6 [==============================] - 0s 5ms/step - loss: 0.3340 - mae: 0.3340 - val_loss: 0.5846 - val_mae: 0.5846\n",
            "Epoch 66/100\n",
            "6/6 [==============================] - 0s 5ms/step - loss: 0.3414 - mae: 0.3414 - val_loss: 0.6240 - val_mae: 0.6240\n",
            "Epoch 67/100\n",
            "6/6 [==============================] - 0s 5ms/step - loss: 0.3453 - mae: 0.3453 - val_loss: 0.5726 - val_mae: 0.5726\n",
            "Epoch 68/100\n",
            "6/6 [==============================] - 0s 6ms/step - loss: 0.3435 - mae: 0.3435 - val_loss: 0.5642 - val_mae: 0.5642\n",
            "Epoch 69/100\n",
            "6/6 [==============================] - 0s 6ms/step - loss: 0.3584 - mae: 0.3584 - val_loss: 0.5636 - val_mae: 0.5636\n",
            "Epoch 70/100\n",
            "6/6 [==============================] - 0s 6ms/step - loss: 0.3308 - mae: 0.3308 - val_loss: 0.6097 - val_mae: 0.6097\n",
            "Epoch 71/100\n",
            "6/6 [==============================] - 0s 5ms/step - loss: 0.3224 - mae: 0.3224 - val_loss: 0.5678 - val_mae: 0.5678\n",
            "Epoch 72/100\n",
            "6/6 [==============================] - 0s 5ms/step - loss: 0.3017 - mae: 0.3017 - val_loss: 0.6028 - val_mae: 0.6028\n",
            "Epoch 73/100\n",
            "6/6 [==============================] - 0s 6ms/step - loss: 0.2993 - mae: 0.2993 - val_loss: 0.6104 - val_mae: 0.6104\n",
            "Epoch 74/100\n",
            "6/6 [==============================] - 0s 5ms/step - loss: 0.3227 - mae: 0.3227 - val_loss: 0.5968 - val_mae: 0.5968\n",
            "Epoch 75/100\n",
            "6/6 [==============================] - 0s 5ms/step - loss: 0.2903 - mae: 0.2903 - val_loss: 0.5728 - val_mae: 0.5728\n",
            "Epoch 76/100\n",
            "6/6 [==============================] - 0s 6ms/step - loss: 0.2884 - mae: 0.2884 - val_loss: 0.5685 - val_mae: 0.5685\n",
            "Epoch 77/100\n",
            "6/6 [==============================] - 0s 5ms/step - loss: 0.2862 - mae: 0.2862 - val_loss: 0.5909 - val_mae: 0.5909\n",
            "Epoch 78/100\n",
            "6/6 [==============================] - 0s 5ms/step - loss: 0.2802 - mae: 0.2802 - val_loss: 0.5735 - val_mae: 0.5735\n",
            "Epoch 79/100\n",
            "6/6 [==============================] - 0s 5ms/step - loss: 0.2723 - mae: 0.2723 - val_loss: 0.5743 - val_mae: 0.5743\n",
            "Epoch 80/100\n",
            "6/6 [==============================] - 0s 5ms/step - loss: 0.2719 - mae: 0.2719 - val_loss: 0.5978 - val_mae: 0.5978\n",
            "Epoch 81/100\n",
            "6/6 [==============================] - 0s 6ms/step - loss: 0.2759 - mae: 0.2759 - val_loss: 0.5807 - val_mae: 0.5807\n",
            "Epoch 82/100\n",
            "6/6 [==============================] - 0s 7ms/step - loss: 0.2843 - mae: 0.2843 - val_loss: 0.6009 - val_mae: 0.6009\n",
            "Epoch 83/100\n",
            "6/6 [==============================] - 0s 5ms/step - loss: 0.2926 - mae: 0.2926 - val_loss: 0.5870 - val_mae: 0.5870\n",
            "Epoch 84/100\n",
            "6/6 [==============================] - 0s 5ms/step - loss: 0.2567 - mae: 0.2567 - val_loss: 0.5772 - val_mae: 0.5772\n",
            "Epoch 85/100\n",
            "6/6 [==============================] - 0s 6ms/step - loss: 0.2676 - mae: 0.2676 - val_loss: 0.5830 - val_mae: 0.5830\n",
            "Epoch 86/100\n",
            "6/6 [==============================] - 0s 5ms/step - loss: 0.2664 - mae: 0.2664 - val_loss: 0.5869 - val_mae: 0.5869\n",
            "Epoch 87/100\n",
            "6/6 [==============================] - 0s 5ms/step - loss: 0.2479 - mae: 0.2479 - val_loss: 0.5792 - val_mae: 0.5792\n",
            "Epoch 88/100\n",
            "6/6 [==============================] - 0s 5ms/step - loss: 0.2668 - mae: 0.2668 - val_loss: 0.6503 - val_mae: 0.6503\n",
            "Epoch 89/100\n",
            "6/6 [==============================] - 0s 5ms/step - loss: 0.3281 - mae: 0.3281 - val_loss: 0.5749 - val_mae: 0.5749\n",
            "Epoch 90/100\n",
            "6/6 [==============================] - 0s 5ms/step - loss: 0.2836 - mae: 0.2836 - val_loss: 0.5603 - val_mae: 0.5603\n",
            "Epoch 91/100\n",
            "6/6 [==============================] - 0s 5ms/step - loss: 0.2705 - mae: 0.2705 - val_loss: 0.5850 - val_mae: 0.5850\n",
            "Epoch 92/100\n",
            "6/6 [==============================] - 0s 5ms/step - loss: 0.2520 - mae: 0.2520 - val_loss: 0.6084 - val_mae: 0.6084\n",
            "Epoch 93/100\n",
            "6/6 [==============================] - 0s 5ms/step - loss: 0.2969 - mae: 0.2969 - val_loss: 0.5782 - val_mae: 0.5782\n",
            "Epoch 94/100\n",
            "6/6 [==============================] - 0s 5ms/step - loss: 0.2694 - mae: 0.2694 - val_loss: 0.6167 - val_mae: 0.6167\n",
            "Epoch 95/100\n",
            "6/6 [==============================] - 0s 5ms/step - loss: 0.2652 - mae: 0.2652 - val_loss: 0.6060 - val_mae: 0.6060\n",
            "Epoch 96/100\n",
            "6/6 [==============================] - 0s 6ms/step - loss: 0.2478 - mae: 0.2478 - val_loss: 0.5950 - val_mae: 0.5950\n",
            "Epoch 97/100\n",
            "6/6 [==============================] - 0s 5ms/step - loss: 0.2224 - mae: 0.2224 - val_loss: 0.6336 - val_mae: 0.6336\n",
            "Epoch 98/100\n",
            "6/6 [==============================] - 0s 5ms/step - loss: 0.2899 - mae: 0.2899 - val_loss: 0.5800 - val_mae: 0.5800\n",
            "Epoch 99/100\n",
            "6/6 [==============================] - 0s 5ms/step - loss: 0.2215 - mae: 0.2215 - val_loss: 0.5892 - val_mae: 0.5892\n",
            "Epoch 100/100\n",
            "6/6 [==============================] - 0s 5ms/step - loss: 0.2467 - mae: 0.2467 - val_loss: 0.6167 - val_mae: 0.6167\n"
          ],
          "name": "stdout"
        }
      ]
    },
    {
      "cell_type": "code",
      "metadata": {
        "id": "3BjE5Pq0JUDP",
        "outputId": "11f8ec15-8dc6-446f-96e0-636b7fe7155b",
        "colab": {
          "base_uri": "https://localhost:8080/",
          "height": 50
        }
      },
      "source": [
        "# Evaluate the model on the test set\n",
        "model.evaluate(test_data, test_targets)"
      ],
      "execution_count": null,
      "outputs": [
        {
          "output_type": "stream",
          "text": [
            "2/2 [==============================] - 0s 2ms/step - loss: 0.4665 - mae: 0.4665\n"
          ],
          "name": "stdout"
        },
        {
          "output_type": "execute_result",
          "data": {
            "text/plain": [
              "[0.4664595425128937, 0.4664595425128937]"
            ]
          },
          "metadata": {
            "tags": []
          },
          "execution_count": 7
        }
      ]
    },
    {
      "cell_type": "code",
      "metadata": {
        "id": "2yEQqFiIJzDS"
      },
      "source": [
        "import matplotlib.pyplot as plt\n",
        "%matplotlib inline"
      ],
      "execution_count": null,
      "outputs": []
    },
    {
      "cell_type": "code",
      "metadata": {
        "id": "PV0E-ZX2Jz5F",
        "outputId": "c578835f-980e-42e7-d72b-12e8543dc88f",
        "colab": {
          "base_uri": "https://localhost:8080/",
          "height": 295
        }
      },
      "source": [
        "# Plot the training and validation loss\n",
        "\n",
        "plt.plot(history.history['loss'])\n",
        "plt.plot(history.history['val_loss'])\n",
        "plt.title('Loss vs. epochs')\n",
        "plt.ylabel('Loss')\n",
        "plt.xlabel('Epoch')\n",
        "plt.legend(['Training', 'Validation'], loc='upper right')\n",
        "plt.show()"
      ],
      "execution_count": null,
      "outputs": [
        {
          "output_type": "display_data",
          "data": {
            "image/png": "[encoded data removed]",
            "text/plain": [
              "<Figure size 432x288 with 1 Axes>"
            ]
          },
          "metadata": {
            "tags": [],
            "needs_background": "light"
          }
        }
      ]
    },
    {
      "cell_type": "code",
      "metadata": {
        "id": "MuMsv2rVJ1pq"
      },
      "source": [
        "predictions = model.predict(test_data)"
      ],
      "execution_count": null,
      "outputs": []
    },
    {
      "cell_type": "code",
      "metadata": {
        "id": "gm7D35oQATYP",
        "outputId": "79bcaf07-6053-4ccc-dcf2-af29fb477d81",
        "colab": {
          "base_uri": "https://localhost:8080/",
          "height": 281
        }
      },
      "source": [
        "plt.plot(predictions)\n",
        "plt.plot(test_targets)\n",
        "plt.title('Actual values vs. Predictions')\n",
        "plt.show()"
      ],
      "execution_count": null,
      "outputs": [
        {
          "output_type": "display_data",
          "data": {
            "image/png": "[encoded data removed]",
            "text/plain": [
              "<Figure size 432x288 with 1 Axes>"
            ]
          },
          "metadata": {
            "tags": [],
            "needs_background": "light"
          }
        }
      ]
    },
    {
      "cell_type": "code",
      "metadata": {
        "id": "VqFGcIKKByUU"
      },
      "source": [
        ""
      ],
      "execution_count": null,
      "outputs": []
    }
  ]
}
